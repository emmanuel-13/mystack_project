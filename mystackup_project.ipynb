{
 "cells": [
  {
   "cell_type": "markdown",
   "id": "694d8787-8ea4-4e29-9ffe-8d686ca9eadd",
   "metadata": {},
   "source": [
    "### importing the relevent library"
   ]
  },
  {
   "cell_type": "code",
   "execution_count": 1,
   "id": "c44f1d3f-9c68-4105-9dba-1fef0399bfe6",
   "metadata": {},
   "outputs": [],
   "source": [
    "from sklearn.model_selection import train_test_split\n",
    "from nltk.sentiment import SentimentIntensityAnalyzer\n",
    "from sklearn.linear_model import LogisticRegression\n",
    "import pandas as pd\n",
    "from sklearn.linear_model import LogisticRegression\n",
    "from sklearn.feature_extraction.text import TfidfVectorizer\n",
    "from sklearn.metrics import accuracy_score"
   ]
  },
  {
   "cell_type": "markdown",
   "id": "895f8c82-adfe-4d32-998a-0b8ede716507",
   "metadata": {},
   "source": [
    "### loading the datasets using pandas and displaying it output"
   ]
  },
  {
   "cell_type": "code",
   "execution_count": 2,
   "id": "2df28b63-d475-4d40-9777-091f2a9fbf1b",
   "metadata": {},
   "outputs": [
    {
     "data": {
      "text/html": [
       "<div>\n",
       "<style scoped>\n",
       "    .dataframe tbody tr th:only-of-type {\n",
       "        vertical-align: middle;\n",
       "    }\n",
       "\n",
       "    .dataframe tbody tr th {\n",
       "        vertical-align: top;\n",
       "    }\n",
       "\n",
       "    .dataframe thead th {\n",
       "        text-align: right;\n",
       "    }\n",
       "</style>\n",
       "<table border=\"1\" class=\"dataframe\">\n",
       "  <thead>\n",
       "    <tr style=\"text-align: right;\">\n",
       "      <th></th>\n",
       "      <th>Tweet</th>\n",
       "      <th>Suicide</th>\n",
       "    </tr>\n",
       "  </thead>\n",
       "  <tbody>\n",
       "    <tr>\n",
       "      <th>0</th>\n",
       "      <td>making some lunch</td>\n",
       "      <td>Not Suicide post</td>\n",
       "    </tr>\n",
       "    <tr>\n",
       "      <th>1</th>\n",
       "      <td>@Alexia You want his money.</td>\n",
       "      <td>Not Suicide post</td>\n",
       "    </tr>\n",
       "    <tr>\n",
       "      <th>2</th>\n",
       "      <td>@dizzyhrvy that crap took me forever to put to...</td>\n",
       "      <td>Potential Suicide post</td>\n",
       "    </tr>\n",
       "    <tr>\n",
       "      <th>3</th>\n",
       "      <td>@jnaylor #kiwitweets Hey Jer! Since when did y...</td>\n",
       "      <td>Not Suicide post</td>\n",
       "    </tr>\n",
       "    <tr>\n",
       "      <th>4</th>\n",
       "      <td>Trying out &amp;quot;Delicious Library 2&amp;quot; wit...</td>\n",
       "      <td>Not Suicide post</td>\n",
       "    </tr>\n",
       "    <tr>\n",
       "      <th>...</th>\n",
       "      <td>...</td>\n",
       "      <td>...</td>\n",
       "    </tr>\n",
       "    <tr>\n",
       "      <th>1782</th>\n",
       "      <td>i have forgotten how much i love my Nokia N95-1</td>\n",
       "      <td>Not Suicide post</td>\n",
       "    </tr>\n",
       "    <tr>\n",
       "      <th>1783</th>\n",
       "      <td>Starting my day out with a positive attitude! ...</td>\n",
       "      <td>Not Suicide post</td>\n",
       "    </tr>\n",
       "    <tr>\n",
       "      <th>1784</th>\n",
       "      <td>@belledame222 Hey, it's 5 am...give a girl som...</td>\n",
       "      <td>Not Suicide post</td>\n",
       "    </tr>\n",
       "    <tr>\n",
       "      <th>1785</th>\n",
       "      <td>2 drunken besties stumble into my room and we ...</td>\n",
       "      <td>Not Suicide post</td>\n",
       "    </tr>\n",
       "    <tr>\n",
       "      <th>1786</th>\n",
       "      <td>@dancingbonita &amp;quot;I friggin love you!!!&amp;quo...</td>\n",
       "      <td>Not Suicide post</td>\n",
       "    </tr>\n",
       "  </tbody>\n",
       "</table>\n",
       "<p>1787 rows × 2 columns</p>\n",
       "</div>"
      ],
      "text/plain": [
       "                                                  Tweet  \\\n",
       "0                                     making some lunch   \n",
       "1                           @Alexia You want his money.   \n",
       "2     @dizzyhrvy that crap took me forever to put to...   \n",
       "3     @jnaylor #kiwitweets Hey Jer! Since when did y...   \n",
       "4     Trying out &quot;Delicious Library 2&quot; wit...   \n",
       "...                                                 ...   \n",
       "1782    i have forgotten how much i love my Nokia N95-1   \n",
       "1783  Starting my day out with a positive attitude! ...   \n",
       "1784  @belledame222 Hey, it's 5 am...give a girl som...   \n",
       "1785  2 drunken besties stumble into my room and we ...   \n",
       "1786  @dancingbonita &quot;I friggin love you!!!&quo...   \n",
       "\n",
       "                      Suicide  \n",
       "0            Not Suicide post  \n",
       "1            Not Suicide post  \n",
       "2     Potential Suicide post   \n",
       "3            Not Suicide post  \n",
       "4            Not Suicide post  \n",
       "...                       ...  \n",
       "1782         Not Suicide post  \n",
       "1783         Not Suicide post  \n",
       "1784         Not Suicide post  \n",
       "1785         Not Suicide post  \n",
       "1786         Not Suicide post  \n",
       "\n",
       "[1787 rows x 2 columns]"
      ]
     },
     "execution_count": 2,
     "metadata": {},
     "output_type": "execute_result"
    }
   ],
   "source": [
    "data = pd.read_csv(\"Suicide_Ideation_Dataset(Twitter-based).csv\")\n",
    "data"
   ]
  },
  {
   "cell_type": "markdown",
   "id": "0791069f-86ed-495d-b707-7c03b859a78d",
   "metadata": {},
   "source": [
    "## ''' EDA(Exploratory data analysis) i.e missing data in the datasets, incomplete variance in the dataset'''"
   ]
  },
  {
   "cell_type": "markdown",
   "id": "b0310753-eca6-4eaf-9f41-280370ae8507",
   "metadata": {},
   "source": [
    "#### displaying the first five row of the datasets"
   ]
  },
  {
   "cell_type": "code",
   "execution_count": 3,
   "id": "57e6045a-a3d5-4020-9295-e8dd7b674d49",
   "metadata": {},
   "outputs": [
    {
     "data": {
      "text/html": [
       "<div>\n",
       "<style scoped>\n",
       "    .dataframe tbody tr th:only-of-type {\n",
       "        vertical-align: middle;\n",
       "    }\n",
       "\n",
       "    .dataframe tbody tr th {\n",
       "        vertical-align: top;\n",
       "    }\n",
       "\n",
       "    .dataframe thead th {\n",
       "        text-align: right;\n",
       "    }\n",
       "</style>\n",
       "<table border=\"1\" class=\"dataframe\">\n",
       "  <thead>\n",
       "    <tr style=\"text-align: right;\">\n",
       "      <th></th>\n",
       "      <th>Tweet</th>\n",
       "      <th>Suicide</th>\n",
       "    </tr>\n",
       "  </thead>\n",
       "  <tbody>\n",
       "    <tr>\n",
       "      <th>0</th>\n",
       "      <td>making some lunch</td>\n",
       "      <td>Not Suicide post</td>\n",
       "    </tr>\n",
       "    <tr>\n",
       "      <th>1</th>\n",
       "      <td>@Alexia You want his money.</td>\n",
       "      <td>Not Suicide post</td>\n",
       "    </tr>\n",
       "    <tr>\n",
       "      <th>2</th>\n",
       "      <td>@dizzyhrvy that crap took me forever to put to...</td>\n",
       "      <td>Potential Suicide post</td>\n",
       "    </tr>\n",
       "    <tr>\n",
       "      <th>3</th>\n",
       "      <td>@jnaylor #kiwitweets Hey Jer! Since when did y...</td>\n",
       "      <td>Not Suicide post</td>\n",
       "    </tr>\n",
       "    <tr>\n",
       "      <th>4</th>\n",
       "      <td>Trying out &amp;quot;Delicious Library 2&amp;quot; wit...</td>\n",
       "      <td>Not Suicide post</td>\n",
       "    </tr>\n",
       "  </tbody>\n",
       "</table>\n",
       "</div>"
      ],
      "text/plain": [
       "                                               Tweet                  Suicide\n",
       "0                                  making some lunch         Not Suicide post\n",
       "1                        @Alexia You want his money.         Not Suicide post\n",
       "2  @dizzyhrvy that crap took me forever to put to...  Potential Suicide post \n",
       "3  @jnaylor #kiwitweets Hey Jer! Since when did y...         Not Suicide post\n",
       "4  Trying out &quot;Delicious Library 2&quot; wit...         Not Suicide post"
      ]
     },
     "execution_count": 3,
     "metadata": {},
     "output_type": "execute_result"
    }
   ],
   "source": [
    "data.head()"
   ]
  },
  {
   "cell_type": "markdown",
   "id": "4cbd0d61-ccf7-44ec-9230-f54092f03dee",
   "metadata": {},
   "source": [
    "#### displaying the last five rows of the datasets"
   ]
  },
  {
   "cell_type": "code",
   "execution_count": 4,
   "id": "ce083657-3ed0-4462-8a38-38bb0318b375",
   "metadata": {},
   "outputs": [
    {
     "data": {
      "text/html": [
       "<div>\n",
       "<style scoped>\n",
       "    .dataframe tbody tr th:only-of-type {\n",
       "        vertical-align: middle;\n",
       "    }\n",
       "\n",
       "    .dataframe tbody tr th {\n",
       "        vertical-align: top;\n",
       "    }\n",
       "\n",
       "    .dataframe thead th {\n",
       "        text-align: right;\n",
       "    }\n",
       "</style>\n",
       "<table border=\"1\" class=\"dataframe\">\n",
       "  <thead>\n",
       "    <tr style=\"text-align: right;\">\n",
       "      <th></th>\n",
       "      <th>Tweet</th>\n",
       "      <th>Suicide</th>\n",
       "    </tr>\n",
       "  </thead>\n",
       "  <tbody>\n",
       "    <tr>\n",
       "      <th>1782</th>\n",
       "      <td>i have forgotten how much i love my Nokia N95-1</td>\n",
       "      <td>Not Suicide post</td>\n",
       "    </tr>\n",
       "    <tr>\n",
       "      <th>1783</th>\n",
       "      <td>Starting my day out with a positive attitude! ...</td>\n",
       "      <td>Not Suicide post</td>\n",
       "    </tr>\n",
       "    <tr>\n",
       "      <th>1784</th>\n",
       "      <td>@belledame222 Hey, it's 5 am...give a girl som...</td>\n",
       "      <td>Not Suicide post</td>\n",
       "    </tr>\n",
       "    <tr>\n",
       "      <th>1785</th>\n",
       "      <td>2 drunken besties stumble into my room and we ...</td>\n",
       "      <td>Not Suicide post</td>\n",
       "    </tr>\n",
       "    <tr>\n",
       "      <th>1786</th>\n",
       "      <td>@dancingbonita &amp;quot;I friggin love you!!!&amp;quo...</td>\n",
       "      <td>Not Suicide post</td>\n",
       "    </tr>\n",
       "  </tbody>\n",
       "</table>\n",
       "</div>"
      ],
      "text/plain": [
       "                                                  Tweet           Suicide\n",
       "1782    i have forgotten how much i love my Nokia N95-1  Not Suicide post\n",
       "1783  Starting my day out with a positive attitude! ...  Not Suicide post\n",
       "1784  @belledame222 Hey, it's 5 am...give a girl som...  Not Suicide post\n",
       "1785  2 drunken besties stumble into my room and we ...  Not Suicide post\n",
       "1786  @dancingbonita &quot;I friggin love you!!!&quo...  Not Suicide post"
      ]
     },
     "execution_count": 4,
     "metadata": {},
     "output_type": "execute_result"
    }
   ],
   "source": [
    "data.tail()"
   ]
  },
  {
   "cell_type": "markdown",
   "id": "d6d63ecc-2b4f-40db-b7f2-7a2a2eb2a963",
   "metadata": {},
   "source": [
    "#### checking the statisticals and datatypes of data"
   ]
  },
  {
   "cell_type": "code",
   "execution_count": 5,
   "id": "da7f4c37-8100-446e-baf5-da840c02840e",
   "metadata": {},
   "outputs": [
    {
     "name": "stdout",
     "output_type": "stream",
     "text": [
      "<class 'pandas.core.frame.DataFrame'>\n",
      "RangeIndex: 1787 entries, 0 to 1786\n",
      "Data columns (total 2 columns):\n",
      " #   Column   Non-Null Count  Dtype \n",
      "---  ------   --------------  ----- \n",
      " 0   Tweet    1785 non-null   object\n",
      " 1   Suicide  1787 non-null   object\n",
      "dtypes: object(2)\n",
      "memory usage: 28.0+ KB\n"
     ]
    }
   ],
   "source": [
    "data.info()"
   ]
  },
  {
   "cell_type": "markdown",
   "id": "ef8bb2e2-3401-4b69-96fd-5fbf44d9f08a",
   "metadata": {},
   "source": [
    "#### checking the size of the datasets"
   ]
  },
  {
   "cell_type": "code",
   "execution_count": 6,
   "id": "73df961a-8475-4f6e-a5a4-b9168e9be837",
   "metadata": {},
   "outputs": [
    {
     "name": "stdout",
     "output_type": "stream",
     "text": [
      "Row: 1787\n",
      "Column: 2\n"
     ]
    }
   ],
   "source": [
    "print(f\"Row: {data.shape[0]}\")\n",
    "print(f\"Column: {data.shape[1]}\")"
   ]
  },
  {
   "cell_type": "markdown",
   "id": "7daaae43-6682-4772-84d7-c55fd86282fc",
   "metadata": {},
   "source": [
    "#### formatting the rows and columns data using pandas"
   ]
  },
  {
   "cell_type": "code",
   "execution_count": 7,
   "id": "efe77944-bc0a-4554-ac24-3211c8ddf308",
   "metadata": {},
   "outputs": [
    {
     "data": {
      "text/html": [
       "<div>\n",
       "<style scoped>\n",
       "    .dataframe tbody tr th:only-of-type {\n",
       "        vertical-align: middle;\n",
       "    }\n",
       "\n",
       "    .dataframe tbody tr th {\n",
       "        vertical-align: top;\n",
       "    }\n",
       "\n",
       "    .dataframe thead th {\n",
       "        text-align: right;\n",
       "    }\n",
       "</style>\n",
       "<table border=\"1\" class=\"dataframe\">\n",
       "  <thead>\n",
       "    <tr style=\"text-align: right;\">\n",
       "      <th></th>\n",
       "      <th>0</th>\n",
       "    </tr>\n",
       "  </thead>\n",
       "  <tbody>\n",
       "    <tr>\n",
       "      <th>Row</th>\n",
       "      <td>1787</td>\n",
       "    </tr>\n",
       "    <tr>\n",
       "      <th>Column</th>\n",
       "      <td>2</td>\n",
       "    </tr>\n",
       "  </tbody>\n",
       "</table>\n",
       "</div>"
      ],
      "text/plain": [
       "           0\n",
       "Row     1787\n",
       "Column     2"
      ]
     },
     "execution_count": 7,
     "metadata": {},
     "output_type": "execute_result"
    }
   ],
   "source": [
    "size = pd.DataFrame([data.shape[0], data.shape[1]], [\"Row\", \"Column\"])\n",
    "size"
   ]
  },
  {
   "cell_type": "markdown",
   "id": "d4f714a4-bc71-4c32-9ff9-1284d5230e12",
   "metadata": {},
   "source": [
    "#### checking the datasets contains a null and dropping it"
   ]
  },
  {
   "cell_type": "code",
   "execution_count": 8,
   "id": "37bd5e32-352b-4252-9a0c-293fd8f7bbdc",
   "metadata": {},
   "outputs": [
    {
     "data": {
      "text/plain": [
       "Tweet       True\n",
       "Suicide    False\n",
       "dtype: bool"
      ]
     },
     "execution_count": 8,
     "metadata": {},
     "output_type": "execute_result"
    }
   ],
   "source": [
    "data.isnull().any()\n",
    "# it was discovered that the tweet has some true value meaning some missing comment"
   ]
  },
  {
   "cell_type": "code",
   "execution_count": 9,
   "id": "718ad2fb-5fe8-43c8-ae8f-af0690b0d512",
   "metadata": {},
   "outputs": [
    {
     "data": {
      "text/plain": [
       "Tweet      2\n",
       "Suicide    0\n",
       "dtype: int64"
      ]
     },
     "execution_count": 9,
     "metadata": {},
     "output_type": "execute_result"
    }
   ],
   "source": [
    "data.isnull().sum()\n",
    "# it was discovered that the tweet has some 2 null comment"
   ]
  },
  {
   "cell_type": "markdown",
   "id": "55c46ee0-f95c-4957-bfe0-84dbaf42ceb1",
   "metadata": {},
   "source": [
    "#### dropping all null tweet and reassigning it to a new data"
   ]
  },
  {
   "cell_type": "code",
   "execution_count": 10,
   "id": "7c6d9227-5695-4867-b600-70b9182bb11a",
   "metadata": {},
   "outputs": [],
   "source": [
    "data = data.dropna()"
   ]
  },
  {
   "cell_type": "markdown",
   "id": "039bf013-58ab-4b10-96f1-30aeed810ce2",
   "metadata": {},
   "source": [
    "#### checking if the data contains null tweet after dropping null tweet"
   ]
  },
  {
   "cell_type": "code",
   "execution_count": 11,
   "id": "58d70381-d4d1-4c45-b635-45b7cee93fff",
   "metadata": {},
   "outputs": [
    {
     "data": {
      "text/plain": [
       "Tweet      False\n",
       "Suicide    False\n",
       "dtype: bool"
      ]
     },
     "execution_count": 11,
     "metadata": {},
     "output_type": "execute_result"
    }
   ],
   "source": [
    "data.isna().any()\n",
    "#alternatively\n",
    "data.isnull().any()"
   ]
  },
  {
   "cell_type": "code",
   "execution_count": 12,
   "id": "ecf4f4d2-68d8-4788-826e-8c01862d6c57",
   "metadata": {},
   "outputs": [
    {
     "data": {
      "text/plain": [
       "Tweet      0\n",
       "Suicide    0\n",
       "dtype: int64"
      ]
     },
     "execution_count": 12,
     "metadata": {},
     "output_type": "execute_result"
    }
   ],
   "source": [
    "data.isnull().sum()\n",
    "#alternatively\n",
    "data.isna().sum()"
   ]
  },
  {
   "cell_type": "markdown",
   "id": "7f0d5abc-c76b-4837-b4e6-d1d36139caac",
   "metadata": {},
   "source": [
    "### Data Proprocessing"
   ]
  },
  {
   "cell_type": "code",
   "execution_count": 13,
   "id": "49e88023-884a-4b61-90ec-49b70667729b",
   "metadata": {},
   "outputs": [],
   "source": [
    "text = data['Tweet']\n",
    "labels = data['Suicide']"
   ]
  },
  {
   "cell_type": "code",
   "execution_count": 14,
   "id": "42b9fe28-57e3-4787-9e73-636c6f6b411f",
   "metadata": {},
   "outputs": [
    {
     "data": {
      "text/plain": [
       "0                                       making some lunch\n",
       "1                             @Alexia You want his money.\n",
       "2       @dizzyhrvy that crap took me forever to put to...\n",
       "3       @jnaylor #kiwitweets Hey Jer! Since when did y...\n",
       "4       Trying out &quot;Delicious Library 2&quot; wit...\n",
       "                              ...                        \n",
       "1782      i have forgotten how much i love my Nokia N95-1\n",
       "1783    Starting my day out with a positive attitude! ...\n",
       "1784    @belledame222 Hey, it's 5 am...give a girl som...\n",
       "1785    2 drunken besties stumble into my room and we ...\n",
       "1786    @dancingbonita &quot;I friggin love you!!!&quo...\n",
       "Name: Tweet, Length: 1785, dtype: object"
      ]
     },
     "execution_count": 14,
     "metadata": {},
     "output_type": "execute_result"
    }
   ],
   "source": [
    "text"
   ]
  },
  {
   "cell_type": "code",
   "execution_count": 15,
   "id": "44019e92-c283-43e5-88e4-3689f6dbd90c",
   "metadata": {},
   "outputs": [
    {
     "data": {
      "text/plain": [
       "0              Not Suicide post\n",
       "1              Not Suicide post\n",
       "2       Potential Suicide post \n",
       "3              Not Suicide post\n",
       "4              Not Suicide post\n",
       "                 ...           \n",
       "1782           Not Suicide post\n",
       "1783           Not Suicide post\n",
       "1784           Not Suicide post\n",
       "1785           Not Suicide post\n",
       "1786           Not Suicide post\n",
       "Name: Suicide, Length: 1785, dtype: object"
      ]
     },
     "execution_count": 15,
     "metadata": {},
     "output_type": "execute_result"
    }
   ],
   "source": [
    "labels"
   ]
  },
  {
   "cell_type": "markdown",
   "id": "7e6bdfd5-87cd-4599-a2c8-ae5802aea0ae",
   "metadata": {},
   "source": [
    "## Model Training"
   ]
  },
  {
   "cell_type": "markdown",
   "id": "bc9f8ccb-4dfd-4f41-b4d4-977f121548c0",
   "metadata": {},
   "source": [
    "#### 1) spliting the data in training and texting"
   ]
  },
  {
   "cell_type": "code",
   "execution_count": 16,
   "id": "915a8160-537f-4943-919b-5db6c1bdba9a",
   "metadata": {},
   "outputs": [],
   "source": [
    "train_texts, test_texts, train_labels, test_labels = train_test_split(text, labels, test_size=0.25, random_state=42)"
   ]
  },
  {
   "cell_type": "markdown",
   "id": "a67db5db-0de6-47a5-93f9-6267f9da9c92",
   "metadata": {},
   "source": [
    "#### 2) Sentiment Analysis using Naive Bayes Classifier"
   ]
  },
  {
   "cell_type": "code",
   "execution_count": 17,
   "id": "cc524cef-f09e-416f-8fec-c4f50b066df1",
   "metadata": {},
   "outputs": [],
   "source": [
    "from sklearn.feature_extraction.text import CountVectorizer\n",
    "from sklearn.naive_bayes import MultinomialNB"
   ]
  },
  {
   "cell_type": "code",
   "execution_count": 18,
   "id": "dd02f463-8a93-48a7-bf6e-8cb854f02cf5",
   "metadata": {},
   "outputs": [],
   "source": [
    "# Initialize a CountVectorizer for text vectorization\n",
    "vectorizer = CountVectorizer(ngram_range=(1, 2))\n",
    "\n",
    "# Fit and transform the training data\n",
    "train_vectors = vectorizer.fit_transform(train_texts)\n",
    "\n",
    "# Transform the test data\n",
    "test_vectors = vectorizer.transform(test_texts)"
   ]
  },
  {
   "cell_type": "code",
   "execution_count": 19,
   "id": "0f0ccc15-4e7f-4b57-9c61-2473c281b7ee",
   "metadata": {},
   "outputs": [
    {
     "data": {
      "text/html": [
       "<style>#sk-container-id-1 {color: black;}#sk-container-id-1 pre{padding: 0;}#sk-container-id-1 div.sk-toggleable {background-color: white;}#sk-container-id-1 label.sk-toggleable__label {cursor: pointer;display: block;width: 100%;margin-bottom: 0;padding: 0.3em;box-sizing: border-box;text-align: center;}#sk-container-id-1 label.sk-toggleable__label-arrow:before {content: \"▸\";float: left;margin-right: 0.25em;color: #696969;}#sk-container-id-1 label.sk-toggleable__label-arrow:hover:before {color: black;}#sk-container-id-1 div.sk-estimator:hover label.sk-toggleable__label-arrow:before {color: black;}#sk-container-id-1 div.sk-toggleable__content {max-height: 0;max-width: 0;overflow: hidden;text-align: left;background-color: #f0f8ff;}#sk-container-id-1 div.sk-toggleable__content pre {margin: 0.2em;color: black;border-radius: 0.25em;background-color: #f0f8ff;}#sk-container-id-1 input.sk-toggleable__control:checked~div.sk-toggleable__content {max-height: 200px;max-width: 100%;overflow: auto;}#sk-container-id-1 input.sk-toggleable__control:checked~label.sk-toggleable__label-arrow:before {content: \"▾\";}#sk-container-id-1 div.sk-estimator input.sk-toggleable__control:checked~label.sk-toggleable__label {background-color: #d4ebff;}#sk-container-id-1 div.sk-label input.sk-toggleable__control:checked~label.sk-toggleable__label {background-color: #d4ebff;}#sk-container-id-1 input.sk-hidden--visually {border: 0;clip: rect(1px 1px 1px 1px);clip: rect(1px, 1px, 1px, 1px);height: 1px;margin: -1px;overflow: hidden;padding: 0;position: absolute;width: 1px;}#sk-container-id-1 div.sk-estimator {font-family: monospace;background-color: #f0f8ff;border: 1px dotted black;border-radius: 0.25em;box-sizing: border-box;margin-bottom: 0.5em;}#sk-container-id-1 div.sk-estimator:hover {background-color: #d4ebff;}#sk-container-id-1 div.sk-parallel-item::after {content: \"\";width: 100%;border-bottom: 1px solid gray;flex-grow: 1;}#sk-container-id-1 div.sk-label:hover label.sk-toggleable__label {background-color: #d4ebff;}#sk-container-id-1 div.sk-serial::before {content: \"\";position: absolute;border-left: 1px solid gray;box-sizing: border-box;top: 0;bottom: 0;left: 50%;z-index: 0;}#sk-container-id-1 div.sk-serial {display: flex;flex-direction: column;align-items: center;background-color: white;padding-right: 0.2em;padding-left: 0.2em;position: relative;}#sk-container-id-1 div.sk-item {position: relative;z-index: 1;}#sk-container-id-1 div.sk-parallel {display: flex;align-items: stretch;justify-content: center;background-color: white;position: relative;}#sk-container-id-1 div.sk-item::before, #sk-container-id-1 div.sk-parallel-item::before {content: \"\";position: absolute;border-left: 1px solid gray;box-sizing: border-box;top: 0;bottom: 0;left: 50%;z-index: -1;}#sk-container-id-1 div.sk-parallel-item {display: flex;flex-direction: column;z-index: 1;position: relative;background-color: white;}#sk-container-id-1 div.sk-parallel-item:first-child::after {align-self: flex-end;width: 50%;}#sk-container-id-1 div.sk-parallel-item:last-child::after {align-self: flex-start;width: 50%;}#sk-container-id-1 div.sk-parallel-item:only-child::after {width: 0;}#sk-container-id-1 div.sk-dashed-wrapped {border: 1px dashed gray;margin: 0 0.4em 0.5em 0.4em;box-sizing: border-box;padding-bottom: 0.4em;background-color: white;}#sk-container-id-1 div.sk-label label {font-family: monospace;font-weight: bold;display: inline-block;line-height: 1.2em;}#sk-container-id-1 div.sk-label-container {text-align: center;}#sk-container-id-1 div.sk-container {/* jupyter's `normalize.less` sets `[hidden] { display: none; }` but bootstrap.min.css set `[hidden] { display: none !important; }` so we also need the `!important` here to be able to override the default hidden behavior on the sphinx rendered scikit-learn.org. See: https://github.com/scikit-learn/scikit-learn/issues/21755 */display: inline-block !important;position: relative;}#sk-container-id-1 div.sk-text-repr-fallback {display: none;}</style><div id=\"sk-container-id-1\" class=\"sk-top-container\"><div class=\"sk-text-repr-fallback\"><pre>MultinomialNB()</pre><b>In a Jupyter environment, please rerun this cell to show the HTML representation or trust the notebook. <br />On GitHub, the HTML representation is unable to render, please try loading this page with nbviewer.org.</b></div><div class=\"sk-container\" hidden><div class=\"sk-item\"><div class=\"sk-estimator sk-toggleable\"><input class=\"sk-toggleable__control sk-hidden--visually\" id=\"sk-estimator-id-1\" type=\"checkbox\" checked><label for=\"sk-estimator-id-1\" class=\"sk-toggleable__label sk-toggleable__label-arrow\">MultinomialNB</label><div class=\"sk-toggleable__content\"><pre>MultinomialNB()</pre></div></div></div></div></div>"
      ],
      "text/plain": [
       "MultinomialNB()"
      ]
     },
     "execution_count": 19,
     "metadata": {},
     "output_type": "execute_result"
    }
   ],
   "source": [
    "# Initialize the Multinomial Naive Bayes classifier\n",
    "classifier = MultinomialNB()\n",
    "\n",
    "# Train the classifier\n",
    "classifier.fit(train_vectors, train_labels)"
   ]
  },
  {
   "cell_type": "code",
   "execution_count": 20,
   "id": "432c52b6-5efe-4d1c-9b94-1dd2f5f7bbb4",
   "metadata": {},
   "outputs": [
    {
     "data": {
      "text/plain": [
       "'Potential Suicide post '"
      ]
     },
     "execution_count": 20,
     "metadata": {},
     "output_type": "execute_result"
    }
   ],
   "source": [
    "# Predict sentiments for test data\n",
    "predictions = classifier.predict(test_vectors)\n",
    "predictions[0]"
   ]
  },
  {
   "cell_type": "code",
   "execution_count": 21,
   "id": "d5c1dec5-7536-4fbb-9485-f044fb0fbe62",
   "metadata": {},
   "outputs": [],
   "source": [
    "from sklearn.metrics import accuracy_score"
   ]
  },
  {
   "cell_type": "code",
   "execution_count": 22,
   "id": "c841d1b1-49f4-4730-8663-164bd1727e69",
   "metadata": {},
   "outputs": [
    {
     "name": "stdout",
     "output_type": "stream",
     "text": [
      "Accuracy: 0.8725\n"
     ]
    }
   ],
   "source": [
    "# Calculate accuracy\n",
    "accuracy = accuracy_score(test_labels, predictions)\n",
    "print(f\"Accuracy: {accuracy:.4f}\")"
   ]
  },
  {
   "cell_type": "code",
   "execution_count": 23,
   "id": "2ba49125-9c80-4a6d-ab9a-32f186857a03",
   "metadata": {},
   "outputs": [
    {
     "name": "stdout",
     "output_type": "stream",
     "text": [
      "The sentiment predicted by the model is: Potential Suicide post \n"
     ]
    }
   ],
   "source": [
    "def naive_prediction(new_text):\n",
    "    new_vector = vectorizer.transform([new_text])\n",
    "    pred = classifier.predict(new_vector)\n",
    "    return pred[0]\n",
    "\n",
    "\n",
    "sample_review = \"I will bury you alive\"\n",
    "print(f\"The sentiment predicted by the model is: {naive_prediction(sample_review)}\")"
   ]
  },
  {
   "cell_type": "markdown",
   "id": "b799b543-d9d2-4310-9693-c53344df43b2",
   "metadata": {},
   "source": [
    "## Suicide Ideation Datasets \n",
    "it is a twitter based datasets used to annotate whether each tweet is related to suicide or not.\n",
    "the datasets is very important for research purpose and also for internet security to monitor the tweet of users in a platform and taking preventive measures\n",
    "to avoid such from happening..\n",
    "\n",
    "The first stage here was data collections; this is very important when dealing with sentiment analysis or any other machine learning modelling and getting the right data for the job is a key\n",
    "to facilitate proper datasets usage and performance..\n",
    "\n",
    "The second steps was to carry out an exploratory data analysis which involves data preprocessing, data cleaning, sorting and filtering of the datasets\n",
    "\n",
    "The three steps is the modelling concepts of the data using machine learning algorithms; here the algorithm used was the naive bayes \n",
    "algorithms because the labels output was either not suicider or potentially suicider which in essence means positive or negetive.... and also it ability to generate a moderate performance.\n"
   ]
  },
  {
   "cell_type": "code",
   "execution_count": null,
   "id": "7cb239e8-d470-410c-8011-8fc61af749ae",
   "metadata": {},
   "outputs": [],
   "source": []
  }
 ],
 "metadata": {
  "kernelspec": {
   "display_name": "Python 3 (ipykernel)",
   "language": "python",
   "name": "python3"
  },
  "language_info": {
   "codemirror_mode": {
    "name": "ipython",
    "version": 3
   },
   "file_extension": ".py",
   "mimetype": "text/x-python",
   "name": "python",
   "nbconvert_exporter": "python",
   "pygments_lexer": "ipython3",
   "version": "3.9.2rc1"
  }
 },
 "nbformat": 4,
 "nbformat_minor": 5
}
